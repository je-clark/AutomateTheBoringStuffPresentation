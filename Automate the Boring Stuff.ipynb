{
 "cells": [
  {
   "attachments": {
    "Huntington_Logo_2C_4C.jpg": {
     "image/jpeg": "[encoded data removed]"
    }
   },
   "cell_type": "markdown",
   "metadata": {
    "slideshow": {
     "slide_type": "slide"
    }
   },
   "source": [
    "![Huntington_Logo_2C_4C.jpg](attachment:Huntington_Logo_2C_4C.jpg)\n",
    "# Automation Book Club\n",
    "\n",
    "## Automate the Boring Stuff with Python\n",
    "## Chapters 7 & 8\n",
    "## Presented by Josh Clark\n",
    "## 3/20/19\n",
    "\n",
    "# Introductions\n",
    "## What is your name?\n",
    "## What department do you work with at Huntington?\n",
    "\n",
    "# Continuous Improvement\n",
    "## “We always look for ways to improve: Welcoming and accepting of new ideas, approaches and perpetual changes; Developing better understanding of customer’s expectations; Consistently collaborating to innovate and improve products, services, and processes; Looking for ways to make it easier to do business with us; Getting incrementally better every day.”  - Huntington Core Value"
   ]
  },
  {
   "cell_type": "markdown",
   "metadata": {
    "slideshow": {
     "slide_type": "slide"
    }
   },
   "source": [
    "# Chapter 8: Reading and Writing Files"
   ]
  },
  {
   "cell_type": "markdown",
   "metadata": {
    "slideshow": {
     "slide_type": "subslide"
    }
   },
   "source": [
    "## Interacting with the OS\n",
    "\n",
    "### Basics of the OS Module"
   ]
  },
  {
   "cell_type": "code",
   "execution_count": null,
   "metadata": {
    "scrolled": true,
    "slideshow": {
     "slide_type": "subslide"
    }
   },
   "outputs": [],
   "source": [
    "# To begin using the module\n",
    "import os"
   ]
  },
  {
   "cell_type": "code",
   "execution_count": null,
   "metadata": {
    "scrolled": true,
    "slideshow": {
     "slide_type": "subslide"
    }
   },
   "outputs": [],
   "source": [
    "# Using the OS's native path separator (backslash vs forward slash)\n",
    "print(os.path.join('myFiles', 'subFolder', 'keepGoing'))"
   ]
  },
  {
   "cell_type": "code",
   "execution_count": null,
   "metadata": {
    "scrolled": true
   },
   "outputs": [],
   "source": [
    "# In a real world example:\n",
    "list_of_files = ['fileOne', 'fileTwo', 'fileThree']\n",
    "for file in list_of_files:\n",
    "    print(os.path.join('C:\\\\system32\\\\importantFolder', file))"
   ]
  },
  {
   "cell_type": "code",
   "execution_count": null,
   "metadata": {
    "scrolled": true
   },
   "outputs": [],
   "source": [
    "# What if I know the files are in the same folder as my script?\n",
    "print(os.getcwd())"
   ]
  },
  {
   "cell_type": "code",
   "execution_count": null,
   "metadata": {
    "scrolled": true
   },
   "outputs": [],
   "source": [
    "# What if I know all the files are in a different folder?\n",
    "os.chdir('U:\\\\Requests')\n",
    "print(os.getcwd())"
   ]
  },
  {
   "cell_type": "code",
   "execution_count": null,
   "metadata": {
    "scrolled": true
   },
   "outputs": [],
   "source": [
    "# And what if the folder doesn't exist?\n",
    "os.chdir('U:\\\\PizzaPartyForBookClub')"
   ]
  },
  {
   "cell_type": "code",
   "execution_count": null,
   "metadata": {
    "scrolled": true
   },
   "outputs": [],
   "source": [
    "# The OS module can work with relative paths\n",
    "print(os.getcwd())\n",
    "os.chdir('..')\n",
    "print(os.getcwd())"
   ]
  },
  {
   "cell_type": "code",
   "execution_count": null,
   "metadata": {
    "scrolled": true
   },
   "outputs": [],
   "source": [
    "# The os.path module can help you with relative paths\n",
    "print(os.path.abspath('.\\\\Requests'))\n",
    "print(os.path.isabs('.'))"
   ]
  },
  {
   "cell_type": "code",
   "execution_count": null,
   "metadata": {
    "scrolled": true
   },
   "outputs": [],
   "source": [
    "# It can also tell you the relative path from one location to another\n",
    "print(os.path.relpath('U:\\\\Documents\\\\EdgeRouter', 'U:\\\\PythonUsersGroup\\\\DevOpsBookClub\\\\AutomateTheBoringStuff\\\\Ch7_8'))"
   ]
  },
  {
   "cell_type": "code",
   "execution_count": null,
   "metadata": {
    "scrolled": true
   },
   "outputs": [],
   "source": [
    "# Let's pretend a user gave us a relative path name and we need the folder structure\n",
    "user_input = '.\\\\Requests'\n",
    "print(os.path.abspath(user_input))\n",
    "print(os.path.dirname(os.path.abspath(user_input)))\n",
    "# And the name of the directory\n",
    "print(os.path.basename(os.path.abspath(user_input)))"
   ]
  },
  {
   "cell_type": "markdown",
   "metadata": {},
   "source": [
    "### File Sizes and Folder Contents"
   ]
  },
  {
   "cell_type": "code",
   "execution_count": null,
   "metadata": {
    "scrolled": true
   },
   "outputs": [],
   "source": [
    "# Real life example!\n",
    "# I had to interpret text files pulled daily from an API\n",
    "filepath = 'U:\\\\Documents\\\\EdgeRouter'\n",
    "for entry in os.listdir(filepath):\n",
    "    if entry.startswith('interface_data_'):\n",
    "        example_file = os.path.join(filepath, entry) # I know this gets overwritten each iteration. Saving it for later...\n",
    "        print(example_file)"
   ]
  },
  {
   "cell_type": "code",
   "execution_count": null,
   "metadata": {
    "scrolled": true
   },
   "outputs": [],
   "source": [
    "# I didn't have to do this, but let's also pull the file sizes\n",
    "for entry in os.listdir(filepath):\n",
    "    if entry.startswith('interface_data_'):\n",
    "        print(entry + ' | ' + str(os.path.getsize(os.path.join(filepath, entry))))"
   ]
  },
  {
   "cell_type": "code",
   "execution_count": null,
   "metadata": {
    "scrolled": true
   },
   "outputs": [],
   "source": [
    "# To verify that the path given is correct:\n",
    "print(os.path.exists('U:\\\\PizzaPartyForBookClub'))\n",
    "\n",
    "# To verify the path given has a file attached to it\n",
    "print(os.path.isfile(filepath))\n",
    "print(os.path.isdir(filepath))"
   ]
  },
  {
   "cell_type": "markdown",
   "metadata": {},
   "source": [
    "## Reading and Writing Files\n",
    "\n",
    "### There are 3 steps:\n",
    "#### 1. Call the open() function to return a File object\n",
    "#### 2. Call the read() or write() method on the File object\n",
    "#### 3. Close the file by calling the close() method on the File object"
   ]
  },
  {
   "cell_type": "markdown",
   "metadata": {},
   "source": [
    "### Reading from a file"
   ]
  },
  {
   "cell_type": "code",
   "execution_count": null,
   "metadata": {
    "scrolled": true
   },
   "outputs": [],
   "source": [
    "# Call the open() function\n",
    "file_obj = open(example_file, 'r', encoding='utf-16') # default is read-only. Add a 'w' as a second argument to write\n",
    "print(type(file_obj))"
   ]
  },
  {
   "cell_type": "code",
   "execution_count": null,
   "metadata": {
    "scrolled": true
   },
   "outputs": [],
   "source": [
    "# Read some stuff out of it\n",
    "file_content = file_obj.read()\n",
    "print(file_content[:100])"
   ]
  },
  {
   "cell_type": "code",
   "execution_count": null,
   "metadata": {
    "scrolled": true
   },
   "outputs": [],
   "source": [
    "# Let's format this a little better by reading each line as an entry in a list\n",
    "file_obj.seek(0) # Reset the pointer to the beginning\n",
    "file_content_neat = file_obj.readlines()\n",
    "print(file_content_neat[1])\n",
    "print(file_content_neat[10])\n",
    "print(file_content_neat[:10])"
   ]
  },
  {
   "cell_type": "code",
   "execution_count": null,
   "metadata": {
    "scrolled": true
   },
   "outputs": [],
   "source": [
    "# Close the file when we're done with it\n",
    "file_obj.close()"
   ]
  },
  {
   "cell_type": "markdown",
   "metadata": {},
   "source": [
    "### Writing to a file"
   ]
  },
  {
   "cell_type": "code",
   "execution_count": null,
   "metadata": {
    "scrolled": true
   },
   "outputs": [],
   "source": [
    "os.chdir(r'U:\\PythonUsersGroup\\DevOpsBookClub\\AutomateTheBoringStuff\\Ch7_8')\n",
    "new_file = open('new_file.txt', 'w')\n",
    "new_file.write('This is a brand new file that\\'s definitely never existed before!')\n",
    "new_file.close()"
   ]
  },
  {
   "cell_type": "code",
   "execution_count": null,
   "metadata": {
    "scrolled": true
   },
   "outputs": [],
   "source": [
    "some_random_file = open('new_file.txt', 'r')\n",
    "print(some_random_file.read())\n",
    "some_random_file.close()"
   ]
  },
  {
   "cell_type": "markdown",
   "metadata": {},
   "source": [
    "## Saving Variables\n",
    "\n",
    "### The shelve module"
   ]
  },
  {
   "cell_type": "code",
   "execution_count": null,
   "metadata": {
    "scrolled": true
   },
   "outputs": [],
   "source": [
    "import shelve\n",
    "\n",
    "shelf_file_name = 'automation_notebook_vars'\n",
    "\n",
    "shelfFile=shelve.open(shelf_file_name)\n",
    "important_string = \"I legit had no idea this existed before reading this chapter.\"\n",
    "shelfFile['important_string'] = important_string\n",
    "shelfFile.close()"
   ]
  },
  {
   "cell_type": "code",
   "execution_count": null,
   "metadata": {
    "scrolled": true
   },
   "outputs": [],
   "source": [
    "# What does it look like?\n",
    "for item in os.listdir(os.getcwd()):\n",
    "    if item.startswith(shelf_file_name):\n",
    "        print(item)"
   ]
  },
  {
   "cell_type": "code",
   "execution_count": null,
   "metadata": {
    "scrolled": true
   },
   "outputs": [],
   "source": [
    "# Let's use my important string again\n",
    "shelfFile = shelve.open(shelf_file_name)\n",
    "print(type(shelfFile))\n",
    "print(list(shelfFile.keys()))\n",
    "print(list(shelfFile.values()))\n",
    "restored_important_string = shelfFile[list(shelfFile.keys())[0]]\n",
    "print(restored_important_string)"
   ]
  },
  {
   "cell_type": "code",
   "execution_count": null,
   "metadata": {},
   "outputs": [],
   "source": [
    "shelfFile.close()"
   ]
  },
  {
   "cell_type": "markdown",
   "metadata": {},
   "source": [
    "# Chapter 7: Regular Expressions\n",
    "\n",
    "Regular expressions are metacharacters. Basically, it's text used to describe text. If we know \"the shape\" of the text, we can describe it and find it without knowing exactly what it says."
   ]
  },
  {
   "cell_type": "code",
   "execution_count": null,
   "metadata": {
    "scrolled": true
   },
   "outputs": [],
   "source": [
    "import re"
   ]
  },
  {
   "cell_type": "markdown",
   "metadata": {},
   "source": [
    "## Basic Pattern Matching"
   ]
  },
  {
   "cell_type": "code",
   "execution_count": null,
   "metadata": {
    "scrolled": true
   },
   "outputs": [],
   "source": [
    "# Let's match a phone number\n",
    "# The '\\d' metacharacter is used to describe a single digit\n",
    "phoneNumberRegex = re.compile(r'\\d\\d\\d-\\d\\d\\d-\\d\\d\\d\\d')\n",
    "\n",
    "hsd_match_object = phoneNumberRegex.search('You can reach the Huntington Service Desk at 614-480-5555')\n",
    "print(hsd_match_object.group())"
   ]
  },
  {
   "cell_type": "markdown",
   "metadata": {},
   "source": [
    "## Python Regex Cheat Sheet\n",
    "\n",
    "These are my most frequently used metacharacters. There are many more out there.\n",
    "\n",
    "#### Basic metacharacters\n",
    "\n",
    "`.`  | The dot matches any character except for a newline \\n\n",
    "\n",
    "`\\d` | Matches any decimal digit [0-9]\n",
    "\n",
    "`\\D` | Matches any non decimal digit \n",
    "\n",
    "`\\s` | Matches any whitespace (including spaces, tabs, newlines)\n",
    "\n",
    "`\\S` | Matches any non-whitespace character\n",
    "\n",
    "`\\w` | Matches any word character [a-zA-Z0-9_]\n",
    "\n",
    "`\\W` | Matches any non-word character\n",
    "\n",
    "`[]` | Matches anything inside the brackets\n",
    "\n",
    "#### Modifiers\n",
    "\n",
    "`*`     | Matches zero or more repetitions of the preceding expression \n",
    "\n",
    "`+`     | Matches one or more repetitions of the preceding expression\n",
    "\n",
    "`?`    | Matches zero or one repetitions of the preceding expression. If it comes after a `*` or `+`, then it makes those non-greedy\n",
    "\n",
    "`\\` | Escapes other characters. If you need to actually search for `r'\\S'`, the regex would be `r'\\\\S'`\n",
    "\n",
    "`{x}`   | Matches x number of repetitions of the preceding expression\n",
    "\n",
    "`{x,y}` | Matches between x and y number of repetitions of the preceding expression"
   ]
  },
  {
   "cell_type": "code",
   "execution_count": null,
   "metadata": {
    "scrolled": true
   },
   "outputs": [],
   "source": [
    "# A few examples\n",
    "text = '''Product name:      endace\n",
    "Product release:   OSm6.4.0_35 4a85279\n",
    "Build ID:          Release\n",
    "Build date:        2018-06-13 18:37:51\n",
    "Target arch:       x86_64\n",
    "Built by:          \n",
    "Version summary:   endace OSm6.4.0_35 4a85279 Release 2018-06-13 18:37:51 x86_64\n",
    "\n",
    "Uptime:            14d 2h 17m 45.728s\n",
    "CPU load averages: 0.84 / 0.78 / 0.63\n",
    "Number of CPUs:    16\n",
    "System memory:     16174 MB used / 48279 MB free / 64453 MB total\n",
    "Swap:              0 MB used / 0 MB free / 0 MB total\n",
    "'''\n",
    "\n",
    "ipmi_raw_output = '''DHCP:               Enabled\n",
    "IP Address:         10.0.13.28\n",
    "MAC Address:        ac:1f:6b:11:40:eb\n",
    "'''\n",
    "\n",
    "# I'm going to call the search a slightly different way\n",
    "# Let's say I want the OS version:\n",
    "os_version = re.search(r'Product release:\\s+(\\S+)', text)\n",
    "print(os_version)\n",
    "print(os_version.group())\n",
    "print(os_version.group(1))\n",
    "\n",
    "# Now let's extract the IP address from the IPMI output\n",
    "ipmi_ip = re.search(r'IP Address:\\s*?(\\d{1,3}\\.\\d{1,3}\\.\\d{1,3}\\.\\d{1,3})', ipmi_raw_output)\n",
    "print(ipmi_ip.group())\n",
    "print(ipmi_ip.group(1))"
   ]
  },
  {
   "cell_type": "markdown",
   "metadata": {},
   "source": [
    "## Grouping\n",
    "\n",
    "Grouping lets you match multiple strings in a single operation.\n",
    "\n",
    "Enclose each group in its own set of parentheses"
   ]
  },
  {
   "cell_type": "code",
   "execution_count": null,
   "metadata": {
    "scrolled": true
   },
   "outputs": [],
   "source": [
    "# What if I want both the IPMI IP address and MAC address?\n",
    "ipmi_info = re.search(r'IP Address:\\s*([\\d\\.]{7,15})[\\s\\S]*?MAC Address:\\s*([\\da-fA-F:\\.]{17})',ipmi_raw_output)\n",
    "print(ipmi_info.group() + \"\\n\")\n",
    "print(ipmi_info.group(1) + \"\\n\")\n",
    "print(ipmi_info.group(2))"
   ]
  },
  {
   "cell_type": "markdown",
   "metadata": {},
   "source": [
    "# Extras"
   ]
  },
  {
   "cell_type": "markdown",
   "metadata": {},
   "source": [
    "## TextFSM\n",
    "\n",
    "TextFSM is a module developed by Google that allows you to template your regex. Here's an example of a template for the IPMI output we looked at before:\n",
    "\n",
    "```\n",
    "Value Required DHCP (\\S+)\n",
    "Value IPAddr (\\d{1,3}.\\d{1,3}.\\d{1,3}.\\d{1,3})\n",
    "Value MACAddr ([0-9a-fA-F]+:[0-9a-fA-F]+:[0-9a-fA-F]+:[0-9a-fA-F]+:[0-9a-fA-F]+:[0-9a-fA-F]+)\n",
    "\n",
    "Start\n",
    "  ^\\s*DHCP:\\s+${DHCP}\n",
    "  ^\\s*IP Address:\\s+${IPAddr}\n",
    "  ^\\s*MAC Address:\\s+${MACAddr}\n",
    "```"
   ]
  },
  {
   "cell_type": "code",
   "execution_count": null,
   "metadata": {
    "scrolled": true
   },
   "outputs": [],
   "source": [
    "import textfsm\n",
    "\n",
    "template_filename = r'U:\\Tools\\EndaceAutomation\\outputTemplates\\ipmiTemplate.txt'\n",
    "\n",
    "with open(template_filename, 'r') as template:\n",
    "    re_table = textfsm.TextFSM(template)\n",
    "output = re_table.ParseText(ipmi_raw_output)\n",
    "print(output)"
   ]
  },
  {
   "cell_type": "markdown",
   "metadata": {},
   "source": [
    "Let's look at the API download file from earlier:\n",
    "```\n",
    "Value Filldown Device (\\d+)\n",
    "Value Filldown Interface (\\d+)\n",
    "Value Filldown Direction (\\w+)\n",
    "Value Required Timestamp (\\d+)\n",
    "Value Bytes (\\d+)\n",
    "\n",
    "Start\n",
    "  ^Device: ${Device}\n",
    "  ^Interface: ${Interface}\n",
    "  ^Octets ${Direction}\n",
    "  ^${Timestamp} : ${Bytes} -> Next.Record\n",
    "  ^\\n -> Clearall Start\n",
    "```"
   ]
  },
  {
   "cell_type": "code",
   "execution_count": null,
   "metadata": {},
   "outputs": [],
   "source": [
    "api_template_fn = r'U:\\Documents\\EdgeRouter\\timestamps_template.txt'\n",
    "\n",
    "print(example_file)"
   ]
  },
  {
   "cell_type": "code",
   "execution_count": null,
   "metadata": {},
   "outputs": [],
   "source": [
    "with open(example_file, encoding='utf-16') as raw_api_file:\n",
    "    raw_api_data = raw_api_file.read()\n",
    "\n",
    "with open(api_template_fn) as api_template:\n",
    "    re_table = textfsm.TextFSM(api_template)\n",
    "    \n",
    "api_info = re_table.ParseText(raw_api_data)\n",
    "print(api_info[:10])\n",
    "print(\"\\n\")\n",
    "for item in api_info:\n",
    "    print(item)"
   ]
  },
  {
   "cell_type": "markdown",
   "metadata": {},
   "source": [
    "# Sources\n",
    "\n",
    "https://automatetheboringstuff.com/\n",
    "\n",
    "https://github.com/google/textfsm/wiki/TextFSM\n",
    "\n",
    "https://regex101.com/\n",
    "\n",
    "https://www.dataquest.io/blog/regex-cheatsheet"
   ]
  },
  {
   "cell_type": "markdown",
   "metadata": {},
   "source": [
    "# Thanks Everyone!"
   ]
  }
 ],
 "metadata": {
  "kernelspec": {
   "display_name": "Python 3",
   "language": "python",
   "name": "python3"
  },
  "language_info": {
   "codemirror_mode": {
    "name": "ipython",
    "version": 3
   },
   "file_extension": ".py",
   "mimetype": "text/x-python",
   "name": "python",
   "nbconvert_exporter": "python",
   "pygments_lexer": "ipython3",
   "version": "3.7.2"
  }
 },
 "nbformat": 4,
 "nbformat_minor": 2
}
