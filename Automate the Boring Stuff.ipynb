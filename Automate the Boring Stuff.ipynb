{
 "cells": [
  {
   "attachments": {},
   "cell_type": "markdown",
   "metadata": {},
   "source": [
    "# Automation Book Club\n",
    "\n",
    "## Automate the Boring Stuff with Python\n",
    "## Chapters 7 & 8\n",
    "## Presented by Josh Clark\n",
    "## 3/20/19\n",
    "\n",
    "# Introductions\n",
    "## What is your name?\n",
    "## What department do you work with at Huntington?\n",
    "\n",
    "# Continuous Improvement\n",
    "## “We always look for ways to improve: Welcoming and accepting of new ideas, approaches and perpetual changes; Developing better understanding of customer’s expectations; Consistently collaborating to innovate and improve products, services, and processes; Looking for ways to make it easier to do business with us; Getting incrementally better every day.”  - Huntington Core Value"
   ]
  },
  {
   "cell_type": "markdown",
   "metadata": {},
   "source": [
    "# Chapter 8: Reading and Writing Files"
   ]
  },
  {
   "cell_type": "markdown",
   "metadata": {},
   "source": [
    "## Interacting with the OS\n",
    "\n",
    "### Basics of the OS Module"
   ]
  },
  {
   "cell_type": "code",
   "execution_count": null,
   "metadata": {},
   "outputs": [],
   "source": [
    "# To begin using the module\n",
    "import os"
   ]
  },
  {
   "cell_type": "code",
   "execution_count": null,
   "metadata": {},
   "outputs": [],
   "source": [
    "# Using the OS's native path separator (backslash vs forward slash)\n",
    "print(os.path.join('myFiles', 'subFolder', 'keepGoing'))"
   ]
  },
  {
   "cell_type": "code",
   "execution_count": null,
   "metadata": {},
   "outputs": [],
   "source": [
    "# In a real world example:\n",
    "list_of_files = ['fileOne', 'fileTwo', 'fileThree']\n",
    "for file in list_of_files:\n",
    "    print(os.path.join('C:\\\\system32\\\\importantFolder', file))"
   ]
  },
  {
   "cell_type": "code",
   "execution_count": null,
   "metadata": {},
   "outputs": [],
   "source": [
    "# What if I know the files are in the same folder as my script?\n",
    "print(os.getcwd())"
   ]
  },
  {
   "cell_type": "code",
   "execution_count": null,
   "metadata": {},
   "outputs": [],
   "source": [
    "# What if I know all the files are in a different folder?\n",
    "os.chdir('U:\\\\Requests')\n",
    "print(os.getcwd())"
   ]
  },
  {
   "cell_type": "code",
   "execution_count": null,
   "metadata": {},
   "outputs": [],
   "source": [
    "# And what if the folder doesn't exist?\n",
    "os.chdir('U:\\\\PizzaPartyForBookClub')"
   ]
  },
  {
   "cell_type": "code",
   "execution_count": null,
   "metadata": {},
   "outputs": [],
   "source": [
    "# The OS module can work with relative paths\n",
    "print(os.getcwd())\n",
    "os.chdir('..')\n",
    "print(os.getcwd())"
   ]
  },
  {
   "cell_type": "code",
   "execution_count": null,
   "metadata": {},
   "outputs": [],
   "source": [
    "# The os.path module can help you with relative paths\n",
    "print(os.path.abspath('.\\\\Requests'))\n",
    "print(os.path.isabs('.'))"
   ]
  },
  {
   "cell_type": "code",
   "execution_count": null,
   "metadata": {},
   "outputs": [],
   "source": [
    "# It can also tell you the relative path from one location to another\n",
    "print(os.path.relpath('U:\\\\Documents\\\\EdgeRouter', 'U:\\\\PythonUsersGroup\\\\DevOpsBookClub\\\\AutomateTheBoringStuff\\\\Ch7_8'))"
   ]
  },
  {
   "cell_type": "code",
   "execution_count": null,
   "metadata": {
    "scrolled": false
   },
   "outputs": [],
   "source": [
    "# Let's pretend a user gave us a relative path name and we need the folder structure\n",
    "user_input = '.\\\\Requests'\n",
    "print(os.path.dirname(os.path.abspath(user_input)))\n",
    "# And the name of the directory\n",
    "print(os.path.basename(os.path.abspath(user_input)))"
   ]
  },
  {
   "cell_type": "markdown",
   "metadata": {},
   "source": [
    "### File Sizes and Folder Contents"
   ]
  },
  {
   "cell_type": "code",
   "execution_count": null,
   "metadata": {
    "scrolled": false
   },
   "outputs": [],
   "source": [
    "# Real life example!\n",
    "# I had to interpret text files pulled daily from an API\n",
    "filepath = 'U:\\\\Documents\\\\EdgeRouter'\n",
    "for entry in os.listdir(filepath):\n",
    "    if entry.startswith('interface_data_'):\n",
    "        example_file = os.path.join(filepath, entry) # I know this gets overwritten each iteration. Saving it for later...\n",
    "        print(example_file)"
   ]
  },
  {
   "cell_type": "code",
   "execution_count": null,
   "metadata": {
    "scrolled": false
   },
   "outputs": [],
   "source": [
    "# I didn't have to do this, but let's also pull the file sizes\n",
    "for entry in os.listdir(filepath):\n",
    "    if entry.startswith('interface_data_'):\n",
    "        print(os.path.getsize(os.path.join(filepath, entry)))"
   ]
  },
  {
   "cell_type": "code",
   "execution_count": null,
   "metadata": {},
   "outputs": [],
   "source": [
    "# To verify that the path given is correct:\n",
    "print(os.path.exists('U:\\\\PizzaPartyForBookClub'))\n",
    "\n",
    "# To verify the path given has a file attached to it\n",
    "print(os.path.isfile(filepath))\n",
    "print(os.path.isdir(filepath))"
   ]
  },
  {
   "cell_type": "markdown",
   "metadata": {},
   "source": [
    "## Reading and Writing Files\n",
    "\n",
    "### There are 3 steps:\n",
    "#### 1. Call the open() function to return a File object\n",
    "#### 2. Call the read() or write() method on the File object\n",
    "#### 3. Close the file by calling the close() method on the File object"
   ]
  },
  {
   "cell_type": "markdown",
   "metadata": {},
   "source": [
    "### Reading from a file"
   ]
  },
  {
   "cell_type": "code",
   "execution_count": null,
   "metadata": {},
   "outputs": [],
   "source": [
    "# Call the open() function\n",
    "file_obj = open(example_file, 'r', encoding='utf-16') # default is read-only. Add a 'w' as a second argument to write\n",
    "print(type(file_obj))"
   ]
  },
  {
   "cell_type": "code",
   "execution_count": null,
   "metadata": {},
   "outputs": [],
   "source": [
    "# Read some stuff out of it\n",
    "file_content = file_obj.read()\n",
    "print(file_content[:100])"
   ]
  },
  {
   "cell_type": "code",
   "execution_count": null,
   "metadata": {},
   "outputs": [],
   "source": [
    "# Let's format this a little better by reading each line as an entry in a list\n",
    "file_obj.seek(0) # Reset the pointer to the beginning\n",
    "file_content_neat = file_obj.readlines()\n",
    "print(file_content_neat[1])\n",
    "print(file_content_neat[10])"
   ]
  },
  {
   "cell_type": "code",
   "execution_count": null,
   "metadata": {},
   "outputs": [],
   "source": [
    "# Close the file when we're done with it\n",
    "file_obj.close()"
   ]
  },
  {
   "cell_type": "markdown",
   "metadata": {},
   "source": [
    "### Writing to a file"
   ]
  },
  {
   "cell_type": "code",
   "execution_count": null,
   "metadata": {},
   "outputs": [],
   "source": [
    "os.chdir(r'U:\\PythonUsersGroup\\DevOpsBookClub\\AutomateTheBoringStuff\\Ch7_8')\n",
    "new_file = open('new_file.txt', 'w')\n",
    "new_file.write('This is a brand new file that\\'s definitely never existed before!')\n",
    "new_file.close()"
   ]
  },
  {
   "cell_type": "code",
   "execution_count": null,
   "metadata": {},
   "outputs": [],
   "source": [
    "some_random_file = open('new_file.txt', 'r')\n",
    "print(some_random_file.read())\n",
    "some_random_file.close()"
   ]
  },
  {
   "cell_type": "markdown",
   "metadata": {},
   "source": [
    "## Saving Variables\n",
    "\n",
    "### The shelve module"
   ]
  },
  {
   "cell_type": "code",
   "execution_count": null,
   "metadata": {},
   "outputs": [],
   "source": [
    "import shelve\n",
    "\n",
    "shelf_file_name = 'automation_notebook_vars'\n",
    "\n",
    "shelfFile=shelve.open(shelf_file_name)\n",
    "important_string = \"I legit had no idea this existed before reading this chapter.\"\n",
    "shelfFile['important_string'] = important_string\n",
    "shelfFile.close()"
   ]
  },
  {
   "cell_type": "code",
   "execution_count": null,
   "metadata": {},
   "outputs": [],
   "source": [
    "# What does it look like?\n",
    "for item in os.listdir(os.getcwd()):\n",
    "    if item.startswith(shelf_file_name):\n",
    "        print(item)"
   ]
  },
  {
   "cell_type": "code",
   "execution_count": null,
   "metadata": {},
   "outputs": [],
   "source": [
    "# Let's use my important string again\n",
    "shelfFile = shelve.open(shelf_file_name)\n",
    "print(type(shelfFile))\n",
    "print(list(shelfFile.keys()))\n",
    "print(list(shelfFile.values()))\n",
    "restored_important_string = shelfFile[list(shelfFile.keys())[0]]\n",
    "print(restored_important_string)"
   ]
  },
  {
   "cell_type": "markdown",
   "metadata": {},
   "source": [
    "# Chapter 7: Regular Expressions\n",
    "\n",
    "Regular expressions are metacharacters. Basically, it's text used to describe text. If we know \"the shape\" of the text, we can describe it and find it without knowing exactly what it says."
   ]
  },
  {
   "cell_type": "code",
   "execution_count": 59,
   "metadata": {},
   "outputs": [],
   "source": [
    "import re"
   ]
  },
  {
   "cell_type": "markdown",
   "metadata": {},
   "source": [
    "## Basic Pattern Matching"
   ]
  },
  {
   "cell_type": "code",
   "execution_count": 60,
   "metadata": {},
   "outputs": [
    {
     "name": "stdout",
     "output_type": "stream",
     "text": [
      "614-480-5555\n"
     ]
    }
   ],
   "source": [
    "# Let's match a phone number\n",
    "# The '\\d' metacharacter is used to describe a single digit\n",
    "phoneNumberRegex = re.compile(r'\\d\\d\\d-\\d\\d\\d-\\d\\d\\d\\d')\n",
    "\n",
    "hsd_match_object = phoneNumberRegex.search('You can reach the Huntington Service Desk at 614-480-5555')\n",
    "print(hsd_match_object.group())"
   ]
  },
  {
   "cell_type": "markdown",
   "metadata": {},
   "source": [
    "## Python Regex Cheat Sheet\n",
    "\n",
    "These are my most frequently used metacharacters. There are many more out there.\n",
    "\n",
    "#### Basic metacharacters\n",
    "\n",
    ".  | The dot matches any character except for a newline \\n\n",
    "\n",
    "\\d | Matches any decimal digit [0-9]\n",
    "\n",
    "\\D | Matches any non decimal digit \n",
    "\n",
    "\\s | Matches any whitespace (including spaces, tabs, newlines)\n",
    "\n",
    "\\S | Matches any non-whitespace character\n",
    "\n",
    "\\w | Matches any word character [a-zA-Z0-9_]\n",
    "\n",
    "\\W | Matches any non-word character\n",
    "\n",
    "#### Modifiers\n",
    "\n",
    "\\*  | Matches zero or more repetitions of the preceding expression \n",
    "\n",
    "\\+  | Matches one or more repetitions of the preceding expression\n",
    "\n",
    "?  | Matches zero or one repetitions of the preceding expression"
   ]
  },
  {
   "cell_type": "code",
   "execution_count": null,
   "metadata": {},
   "outputs": [],
   "source": [
    "# A few examples\n",
    "text = '''Product name:      endace\n",
    "Product release:   OSm6.4.0_35 4a85279\n",
    "Build ID:          Release\n",
    "Build date:        2018-06-13 18:37:51\n",
    "Target arch:       x86_64\n",
    "Built by:          \n",
    "Version summary:   endace OSm6.4.0_35 4a85279 Release 2018-06-13 18:37:51 x86_64\n",
    "\n",
    "Uptime:            14d 2h 17m 45.728s\n",
    "CPU load averages: 0.84 / 0.78 / 0.63\n",
    "Number of CPUs:    16\n",
    "System memory:     16174 MB used / 48279 MB free / 64453 MB total\n",
    "Swap:              0 MB used / 0 MB free / 0 MB total\n",
    "'''"
   ]
  },
  {
   "cell_type": "markdown",
   "metadata": {},
   "source": [
    "## Grouping"
   ]
  },
  {
   "cell_type": "markdown",
   "metadata": {},
   "source": [
    "## Other Functions"
   ]
  },
  {
   "cell_type": "markdown",
   "metadata": {},
   "source": [
    "## TextFSM"
   ]
  },
  {
   "cell_type": "markdown",
   "metadata": {},
   "source": [
    "# Appendix: Projects"
   ]
  },
  {
   "cell_type": "markdown",
   "metadata": {},
   "source": [
    "## Generating Random Quiz Files"
   ]
  },
  {
   "cell_type": "markdown",
   "metadata": {},
   "source": [
    "## Multiclipboard"
   ]
  },
  {
   "cell_type": "markdown",
   "metadata": {},
   "source": [
    "## Phone Number and Email Address Extractor"
   ]
  },
  {
   "cell_type": "markdown",
   "metadata": {},
   "source": [
    "# Sources"
   ]
  }
 ],
 "metadata": {
  "kernelspec": {
   "display_name": "Python 3",
   "language": "python",
   "name": "python3"
  },
  "language_info": {
   "codemirror_mode": {
    "name": "ipython",
    "version": 3
   },
   "file_extension": ".py",
   "mimetype": "text/x-python",
   "name": "python",
   "nbconvert_exporter": "python",
   "pygments_lexer": "ipython3",
   "version": "3.7.2"
  }
 },
 "nbformat": 4,
 "nbformat_minor": 2
}
